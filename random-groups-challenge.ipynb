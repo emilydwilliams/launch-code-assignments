{
 "cells": [
  {
   "cell_type": "markdown",
   "metadata": {},
   "source": [
    "# **Week 4 Python Practice - Bonus Challenge**#\n",
    "\n",
    "Here's a bonus challenge if you have time. There are 12 data scientists that work for Big Data Corp. Four of them have just joined the team as LaunchCode apprentices. To build camaraderie, the team decides to have a mini data hackathon. They'll divide themselves into 3 teams of 4 people. Because they are data scientists, they want a python program that will randomly assign people to the three teams. In the interest of fairness, they want to make sure no team has more than 2 apprentices assigned to it.\n",
    "\n",
    "Write a program that assigns the following team members to three teams. The Big Data Corp data scientists will want to run your code and be sure that they do not get a result that has too many apprentices on one team, so be sure that never happens!\n",
    "\n",
    "The team members are:\n",
    " - Alice (Apprentice)\n",
    " - Anthony (Apprentice)\n",
    " - Amy (Apprentice)\n",
    " - Andrew (Apprentice)\n",
    " - Bryan\n",
    " - Catherine\n",
    " - David\n",
    " - Ernesto\n",
    " - Fred\n",
    " - Glenda\n",
    " - Hannah\n",
    " - Ilana\n"
   ]
  },
  {
   "cell_type": "code",
   "execution_count": 2,
   "metadata": {},
   "outputs": [
    {
     "name": "stdout",
     "output_type": "stream",
     "text": [
      "['Alice - APPRENTICE', 'Anthony - APPRENTICE', 'Amy - APPRENTICE', 'Andrew - APPRENTICE', 'Bryan', 'Catherine', 'David', 'Ernesto', 'Fred', 'Glenda', 'Hannah', 'Ilana']\n"
     ]
    }
   ],
   "source": [
    "# You may approach this problem however you like, as long as teams are random and never have >2 apprentices!\n",
    "\n",
    "team_members = ['Alice - APPRENTICE', 'Anthony - APPRENTICE', 'Amy - APPRENTICE', 'Andrew - APPRENTICE', 'Bryan', 'Catherine', 'David', 'Ernesto', 'Fred', 'Glenda', 'Hannah', 'Ilana']\n",
    "print(team_members)"
   ]
  },
  {
   "cell_type": "code",
   "execution_count": 5,
   "metadata": {},
   "outputs": [
    {
     "name": "stdout",
     "output_type": "stream",
     "text": [
      "['Alice - APPRENTICE', 'Catherine', 'Fred', 'Glenda']\n",
      "['Anthony - APPRENTICE', 'Ernesto', 'David', 'Bryan']\n",
      "['Andrew - APPRENTICE', 'Ilana', 'Hannah', 'Andrew - APPRENTICE']\n"
     ]
    }
   ],
   "source": [
    "team_1 = [team_members[0]]\n",
    "team_2 = [team_members[1]]\n",
    "team_3 = [team_members[3]]\n",
    "\n",
    "remaining_team_members = team_members[3:]\n",
    "\n",
    "from random import randint\n",
    "\n",
    "def assign_members(team):\n",
    "    while len(team) < 4:\n",
    "        new_team_member = remaining_team_members.pop(randint(0,len(remaining_team_members)-1))\n",
    "        team.append(new_team_member)\n",
    "    print(team)\n",
    "    \n",
    "assign_members(team_1)\n",
    "assign_members(team_2)\n",
    "assign_members(team_3)"
   ]
  }
 ],
 "metadata": {
  "kernelspec": {
   "display_name": "Python 3",
   "language": "python",
   "name": "python3"
  },
  "language_info": {
   "codemirror_mode": {
    "name": "ipython",
    "version": 3
   },
   "file_extension": ".py",
   "mimetype": "text/x-python",
   "name": "python",
   "nbconvert_exporter": "python",
   "pygments_lexer": "ipython3",
   "version": "3.7.4"
  }
 },
 "nbformat": 4,
 "nbformat_minor": 4
}
