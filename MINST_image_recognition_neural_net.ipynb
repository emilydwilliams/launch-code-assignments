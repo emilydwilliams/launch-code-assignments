{
 "cells": [
  {
   "cell_type": "markdown",
   "metadata": {},
   "source": [
    "## Import Packages"
   ]
  },
  {
   "cell_type": "code",
   "execution_count": 1,
   "metadata": {},
   "outputs": [
    {
     "name": "stderr",
     "output_type": "stream",
     "text": [
      "Using TensorFlow backend.\n",
      "/Users/emilywilliams/opt/anaconda3/lib/python3.7/site-packages/tensorflow/python/framework/dtypes.py:516: FutureWarning: Passing (type, 1) or '1type' as a synonym of type is deprecated; in a future version of numpy, it will be understood as (type, (1,)) / '(1,)type'.\n",
      "  _np_qint8 = np.dtype([(\"qint8\", np.int8, 1)])\n",
      "/Users/emilywilliams/opt/anaconda3/lib/python3.7/site-packages/tensorflow/python/framework/dtypes.py:517: FutureWarning: Passing (type, 1) or '1type' as a synonym of type is deprecated; in a future version of numpy, it will be understood as (type, (1,)) / '(1,)type'.\n",
      "  _np_quint8 = np.dtype([(\"quint8\", np.uint8, 1)])\n",
      "/Users/emilywilliams/opt/anaconda3/lib/python3.7/site-packages/tensorflow/python/framework/dtypes.py:518: FutureWarning: Passing (type, 1) or '1type' as a synonym of type is deprecated; in a future version of numpy, it will be understood as (type, (1,)) / '(1,)type'.\n",
      "  _np_qint16 = np.dtype([(\"qint16\", np.int16, 1)])\n",
      "/Users/emilywilliams/opt/anaconda3/lib/python3.7/site-packages/tensorflow/python/framework/dtypes.py:519: FutureWarning: Passing (type, 1) or '1type' as a synonym of type is deprecated; in a future version of numpy, it will be understood as (type, (1,)) / '(1,)type'.\n",
      "  _np_quint16 = np.dtype([(\"quint16\", np.uint16, 1)])\n",
      "/Users/emilywilliams/opt/anaconda3/lib/python3.7/site-packages/tensorflow/python/framework/dtypes.py:520: FutureWarning: Passing (type, 1) or '1type' as a synonym of type is deprecated; in a future version of numpy, it will be understood as (type, (1,)) / '(1,)type'.\n",
      "  _np_qint32 = np.dtype([(\"qint32\", np.int32, 1)])\n",
      "/Users/emilywilliams/opt/anaconda3/lib/python3.7/site-packages/tensorflow/python/framework/dtypes.py:525: FutureWarning: Passing (type, 1) or '1type' as a synonym of type is deprecated; in a future version of numpy, it will be understood as (type, (1,)) / '(1,)type'.\n",
      "  np_resource = np.dtype([(\"resource\", np.ubyte, 1)])\n",
      "/Users/emilywilliams/opt/anaconda3/lib/python3.7/site-packages/tensorboard/compat/tensorflow_stub/dtypes.py:541: FutureWarning: Passing (type, 1) or '1type' as a synonym of type is deprecated; in a future version of numpy, it will be understood as (type, (1,)) / '(1,)type'.\n",
      "  _np_qint8 = np.dtype([(\"qint8\", np.int8, 1)])\n",
      "/Users/emilywilliams/opt/anaconda3/lib/python3.7/site-packages/tensorboard/compat/tensorflow_stub/dtypes.py:542: FutureWarning: Passing (type, 1) or '1type' as a synonym of type is deprecated; in a future version of numpy, it will be understood as (type, (1,)) / '(1,)type'.\n",
      "  _np_quint8 = np.dtype([(\"quint8\", np.uint8, 1)])\n",
      "/Users/emilywilliams/opt/anaconda3/lib/python3.7/site-packages/tensorboard/compat/tensorflow_stub/dtypes.py:543: FutureWarning: Passing (type, 1) or '1type' as a synonym of type is deprecated; in a future version of numpy, it will be understood as (type, (1,)) / '(1,)type'.\n",
      "  _np_qint16 = np.dtype([(\"qint16\", np.int16, 1)])\n",
      "/Users/emilywilliams/opt/anaconda3/lib/python3.7/site-packages/tensorboard/compat/tensorflow_stub/dtypes.py:544: FutureWarning: Passing (type, 1) or '1type' as a synonym of type is deprecated; in a future version of numpy, it will be understood as (type, (1,)) / '(1,)type'.\n",
      "  _np_quint16 = np.dtype([(\"quint16\", np.uint16, 1)])\n",
      "/Users/emilywilliams/opt/anaconda3/lib/python3.7/site-packages/tensorboard/compat/tensorflow_stub/dtypes.py:545: FutureWarning: Passing (type, 1) or '1type' as a synonym of type is deprecated; in a future version of numpy, it will be understood as (type, (1,)) / '(1,)type'.\n",
      "  _np_qint32 = np.dtype([(\"qint32\", np.int32, 1)])\n",
      "/Users/emilywilliams/opt/anaconda3/lib/python3.7/site-packages/tensorboard/compat/tensorflow_stub/dtypes.py:550: FutureWarning: Passing (type, 1) or '1type' as a synonym of type is deprecated; in a future version of numpy, it will be understood as (type, (1,)) / '(1,)type'.\n",
      "  np_resource = np.dtype([(\"resource\", np.ubyte, 1)])\n"
     ]
    }
   ],
   "source": [
    "import numpy as np\n",
    "from keras.datasets import mnist\n",
    "from keras.models import Sequential\n",
    "from keras.layers.core import Dense, Dropout, Activation\n",
    "from keras.optimizers import RMSprop\n",
    "from keras.utils import np_utils\n",
    "from keras.utils import to_categorical\n",
    "import matplotlib.pyplot as plt"
   ]
  },
  {
   "cell_type": "markdown",
   "metadata": {},
   "source": [
    "## Initialize Training Parameters"
   ]
  },
  {
   "cell_type": "code",
   "execution_count": 2,
   "metadata": {},
   "outputs": [],
   "source": [
    "np.random.seed(1671)  # for reproducibility\n",
    "\n",
    "# network and training\n",
    "NB_EPOCH = 20\n",
    "BATCH_SIZE = 128 # Size of \n",
    "VERBOSE = 1\n",
    "NB_CLASSES = 10   # number of outputs = number of digits\n",
    "OPTIMIZER = RMSprop() # optimizer \n",
    "N_HIDDEN = 128 # number of hidden units\n",
    "VALIDATION_SPLIT=0.2 # how much TRAIN is reserved for VALIDATION\n",
    "DROPOUT = 0.3 # Used for regularization\n",
    "RESHAPED = 784 # Number of features to be used"
   ]
  },
  {
   "cell_type": "markdown",
   "metadata": {},
   "source": [
    "## Load MNIST Dataset into training and testing sets\n",
    "* __Problem 1__: Load MINST dataset using Keras function\n",
    "* Load into `X_train`, `y_train`, `X_test`, `y_test`"
   ]
  },
  {
   "cell_type": "code",
   "execution_count": 3,
   "metadata": {},
   "outputs": [],
   "source": [
    "(x_train, y_train), (x_test, y_test) = mnist.load_data()"
   ]
  },
  {
   "cell_type": "markdown",
   "metadata": {},
   "source": [
    "## Reshape Input Data Frame\n",
    "* Input data is 28x28 greyscale values\n",
    "* Reshape to a 1D vector with 784 features\n",
    "* Training data consists of 60,000 examples\n",
    "* Final data reshaped into a tensor of 60,000 x 784\n",
    "* __Problem 2__: Reshape `X_train` and `X_test` vectors according to dimensions above\n",
    "* Cast type as `float32`"
   ]
  },
  {
   "cell_type": "code",
   "execution_count": 4,
   "metadata": {},
   "outputs": [],
   "source": [
    "X_train = x_train.reshape(60000, 784).astype('float32')\n",
    "X_test = x_test.reshape(10000, 784).astype('float32')"
   ]
  },
  {
   "cell_type": "markdown",
   "metadata": {},
   "source": [
    "## Normalize Data\n",
    "* Greyscale data can be normalized by maximum value (255)\n",
    "* __Problem 3__: Normalize `X_train` and `X_test` vectors"
   ]
  },
  {
   "cell_type": "code",
   "execution_count": 5,
   "metadata": {},
   "outputs": [
    {
     "name": "stdout",
     "output_type": "stream",
     "text": [
      "60000 train samples\n",
      "10000 test samples\n"
     ]
    }
   ],
   "source": [
    "## Problem 3\n",
    "print(X_train.shape[0], 'train samples')\n",
    "print(X_test.shape[0], 'test samples')\n",
    "\n",
    "X_train = X_train / 255\n",
    "X_test = X_test / 255"
   ]
  },
  {
   "cell_type": "markdown",
   "metadata": {},
   "source": [
    "## Convert array of class matrix to one-hot-vector\n",
    "* __Problem 4__: Use keras function to one-hot-encode `y_train` and `y_test`. \n",
    "* Set to `Y_train` and `Y_test`"
   ]
  },
  {
   "cell_type": "code",
   "execution_count": 6,
   "metadata": {},
   "outputs": [
    {
     "name": "stdout",
     "output_type": "stream",
     "text": [
      "[5 0 4 ... 5 6 8]\n"
     ]
    }
   ],
   "source": [
    "# Original class vector\n",
    "print(y_train)"
   ]
  },
  {
   "cell_type": "code",
   "execution_count": 7,
   "metadata": {},
   "outputs": [],
   "source": [
    "## Problem 4\n",
    "Y_train = to_categorical(y_train, num_classes=10)\n",
    "Y_test = to_categorical(y_test, num_classes=10)"
   ]
  },
  {
   "cell_type": "code",
   "execution_count": 8,
   "metadata": {},
   "outputs": [
    {
     "name": "stdout",
     "output_type": "stream",
     "text": [
      "[0. 1. 0. 0. 0. 0. 0. 0. 0. 0.]\n"
     ]
    }
   ],
   "source": [
    "# One-hot vector encoding\n",
    "print(Y_train[3])"
   ]
  },
  {
   "cell_type": "markdown",
   "metadata": {},
   "source": [
    "## Build Model\n",
    "* M_HIDDEN = 128 : Hidden units for each Dense layer\n",
    "* DROPOUT = 0.3 : Randomly setting 30% of weights to 0 at each update during training time\n",
    "* NB_CLASSES = 10 : Number of output classes\n",
    "* __Problem 5__ : Build Neural Network using Keras model functions\n",
    "* Look up `Sequential`, `Dense`, `Activation`\n",
    "* Print model `summary`"
   ]
  },
  {
   "cell_type": "code",
   "execution_count": 15,
   "metadata": {},
   "outputs": [
    {
     "name": "stdout",
     "output_type": "stream",
     "text": [
      "Model: \"sequential_4\"\n",
      "_________________________________________________________________\n",
      "Layer (type)                 Output Shape              Param #   \n",
      "=================================================================\n",
      "dense_5 (Dense)              (None, 128)               100480    \n",
      "_________________________________________________________________\n",
      "activation_1 (Activation)    (None, 128)               0         \n",
      "_________________________________________________________________\n",
      "dropout_2 (Dropout)          (None, 128)               0         \n",
      "_________________________________________________________________\n",
      "dense_6 (Dense)              (None, 10)                1290      \n",
      "_________________________________________________________________\n",
      "activation_2 (Activation)    (None, 10)                0         \n",
      "=================================================================\n",
      "Total params: 101,770\n",
      "Trainable params: 101,770\n",
      "Non-trainable params: 0\n",
      "_________________________________________________________________\n"
     ]
    }
   ],
   "source": [
    "## Problem # 5\n",
    "model = Sequential()\n",
    "model.add(Dense(128, input_dim=784))\n",
    "model.add(Activation('relu'))\n",
    "model.add(Dropout(DROPOUT))\n",
    "model.add(Dense(10))\n",
    "model.add(Activation('softmax'))\n",
    "model.summary()"
   ]
  },
  {
   "cell_type": "markdown",
   "metadata": {},
   "source": [
    "## Model Compilation\n",
    "* Loss function : The loss value that will be minimized by the model will then be the sum of all individual losses\n",
    "* Optimizer : How to optimize the loss function\n",
    "* Metrics : Accuracy\n",
    "* __Problem 6__ : `compile` the model you built from Problem 5\n",
    "* Use appropriate loss function, optimizer, and performance metric"
   ]
  },
  {
   "cell_type": "code",
   "execution_count": 16,
   "metadata": {},
   "outputs": [],
   "source": [
    "## Problem 6\n",
    "model.compile(loss='categorical_crossentropy', optimizer=RMSprop(), metrics=['accuracy'])"
   ]
  },
  {
   "cell_type": "markdown",
   "metadata": {},
   "source": [
    "## Fit Model\n",
    "* Batch Size : Number of samples per gradient update.\n",
    "* Epochs: An epoch is an iteration over the entire x and y data provided.\n",
    "* Validation Split: Fraction of the training data to be used as validation data. \n",
    "* __Problem 7__: Fit your model with appropriate batch size, number of epochs, verbosity, and validation split\n",
    "* Save model fit to a new variable named `history`"
   ]
  },
  {
   "cell_type": "code",
   "execution_count": 17,
   "metadata": {},
   "outputs": [
    {
     "name": "stdout",
     "output_type": "stream",
     "text": [
      "WARNING:tensorflow:From /Users/emilywilliams/opt/anaconda3/lib/python3.7/site-packages/keras/backend/tensorflow_backend.py:422: The name tf.global_variables is deprecated. Please use tf.compat.v1.global_variables instead.\n",
      "\n",
      "Train on 48000 samples, validate on 12000 samples\n",
      "Epoch 1/20\n",
      "48000/48000 [==============================] - 2s 52us/step - loss: 0.4423 - accuracy: 0.8743 - val_loss: 0.2123 - val_accuracy: 0.9426\n",
      "Epoch 2/20\n",
      "48000/48000 [==============================] - 2s 40us/step - loss: 0.2253 - accuracy: 0.9360 - val_loss: 0.1575 - val_accuracy: 0.9532\n",
      "Epoch 3/20\n",
      "48000/48000 [==============================] - 2s 40us/step - loss: 0.1734 - accuracy: 0.9481 - val_loss: 0.1280 - val_accuracy: 0.9634\n",
      "Epoch 4/20\n",
      "48000/48000 [==============================] - 2s 42us/step - loss: 0.1446 - accuracy: 0.9581 - val_loss: 0.1161 - val_accuracy: 0.9652\n",
      "Epoch 5/20\n",
      "48000/48000 [==============================] - 2s 40us/step - loss: 0.1279 - accuracy: 0.9622 - val_loss: 0.1096 - val_accuracy: 0.9693\n",
      "Epoch 6/20\n",
      "48000/48000 [==============================] - 2s 41us/step - loss: 0.1159 - accuracy: 0.9657 - val_loss: 0.0995 - val_accuracy: 0.9714\n",
      "Epoch 7/20\n",
      "48000/48000 [==============================] - 2s 39us/step - loss: 0.1041 - accuracy: 0.9693 - val_loss: 0.1030 - val_accuracy: 0.9710\n",
      "Epoch 8/20\n",
      "48000/48000 [==============================] - 2s 39us/step - loss: 0.0984 - accuracy: 0.9707 - val_loss: 0.0939 - val_accuracy: 0.9743\n",
      "Epoch 9/20\n",
      "48000/48000 [==============================] - 2s 39us/step - loss: 0.0902 - accuracy: 0.9724 - val_loss: 0.0918 - val_accuracy: 0.9750\n",
      "Epoch 10/20\n",
      "48000/48000 [==============================] - 2s 39us/step - loss: 0.0864 - accuracy: 0.9738 - val_loss: 0.0921 - val_accuracy: 0.9729\n",
      "Epoch 11/20\n",
      "48000/48000 [==============================] - 2s 39us/step - loss: 0.0819 - accuracy: 0.9753 - val_loss: 0.0889 - val_accuracy: 0.9744\n",
      "Epoch 12/20\n",
      "48000/48000 [==============================] - 2s 41us/step - loss: 0.0764 - accuracy: 0.9774 - val_loss: 0.0864 - val_accuracy: 0.9766\n",
      "Epoch 13/20\n",
      "48000/48000 [==============================] - 2s 44us/step - loss: 0.0727 - accuracy: 0.9778 - val_loss: 0.0912 - val_accuracy: 0.9754\n",
      "Epoch 14/20\n",
      "48000/48000 [==============================] - 2s 44us/step - loss: 0.0716 - accuracy: 0.9784 - val_loss: 0.0908 - val_accuracy: 0.9763\n",
      "Epoch 15/20\n",
      "48000/48000 [==============================] - 2s 42us/step - loss: 0.0693 - accuracy: 0.9792 - val_loss: 0.0923 - val_accuracy: 0.9768\n",
      "Epoch 16/20\n",
      "48000/48000 [==============================] - 2s 41us/step - loss: 0.0660 - accuracy: 0.9797 - val_loss: 0.0922 - val_accuracy: 0.9759\n",
      "Epoch 17/20\n",
      "48000/48000 [==============================] - 2s 42us/step - loss: 0.0640 - accuracy: 0.9801 - val_loss: 0.0924 - val_accuracy: 0.9769\n",
      "Epoch 18/20\n",
      "48000/48000 [==============================] - 2s 43us/step - loss: 0.0586 - accuracy: 0.9815 - val_loss: 0.0911 - val_accuracy: 0.9771\n",
      "Epoch 19/20\n",
      "48000/48000 [==============================] - 2s 43us/step - loss: 0.0587 - accuracy: 0.9822 - val_loss: 0.0927 - val_accuracy: 0.9781\n",
      "Epoch 20/20\n",
      "48000/48000 [==============================] - 2s 47us/step - loss: 0.0572 - accuracy: 0.9827 - val_loss: 0.0927 - val_accuracy: 0.9773\n"
     ]
    }
   ],
   "source": [
    "## Problem 7\n",
    "history = model.fit(X_train, Y_train, batch_size=128, epochs=20, verbose=1, validation_split=0.2)"
   ]
  },
  {
   "cell_type": "markdown",
   "metadata": {},
   "source": [
    "## Evaluate Test Accuracy\n",
    "* __Problem 8__ : Score your model using Keras functions"
   ]
  },
  {
   "cell_type": "code",
   "execution_count": 18,
   "metadata": {},
   "outputs": [
    {
     "name": "stdout",
     "output_type": "stream",
     "text": [
      "10000/10000 [==============================] - 0s 28us/step\n",
      "\n",
      "Test score: 0.09095938113325974\n",
      "Test accuracy: 0.9763000011444092\n"
     ]
    }
   ],
   "source": [
    "## Problem 8\n",
    "\n",
    "score = model.evaluate(X_test, Y_test)\n",
    "\n",
    "print(\"\\nTest score:\", score[0])\n",
    "print('Test accuracy:', score[1])"
   ]
  },
  {
   "cell_type": "markdown",
   "metadata": {},
   "source": [
    "## Evaluating Accuracy Over Epochs\n",
    "* __Problem 9__: Plot accuracy as a function of epochs\n",
    "* Use `history` for data to plot\n",
    "* Make sure to include plot labels"
   ]
  },
  {
   "cell_type": "code",
   "execution_count": 19,
   "metadata": {},
   "outputs": [
    {
     "data": {
      "image/png": "[encoded data removed]",
      "text/plain": [
       "<Figure size 432x288 with 1 Axes>"
      ]
     },
     "metadata": {
      "needs_background": "light"
     },
     "output_type": "display_data"
    }
   ],
   "source": [
    "# summarize history for accuracy\n",
    "## Problem 9\n",
    "\n",
    "import os\n",
    "os.environ[\"KMP_DUPLICATE_LIB_OK\"] = \"TRUE\"  # Workaround for bug\n",
    "\n",
    "plt.plot(history.history['accuracy'])\n",
    "plt.plot(history.history['val_accuracy'])\n",
    "plt.title('model accuracy')\n",
    "plt.xlabel('epoch')\n",
    "plt.ylabel('accuracy')\n",
    "plt.legend(['train','test'])\n",
    "plt.show()"
   ]
  },
  {
   "cell_type": "markdown",
   "metadata": {},
   "source": [
    "## Evaluating Loss Function Over Epochs\n",
    "* __Problem 10__: Plot loss function as a function of epochs\n",
    "* Use `history` for data to plot\n",
    "* Make sure to include plot labels"
   ]
  },
  {
   "cell_type": "code",
   "execution_count": 14,
   "metadata": {},
   "outputs": [
    {
     "data": {
      "image/png": "[encoded data removed]",
      "text/plain": [
       "<Figure size 432x288 with 1 Axes>"
      ]
     },
     "metadata": {
      "needs_background": "light"
     },
     "output_type": "display_data"
    }
   ],
   "source": [
    "# summarize history for loss\n",
    "## Problem 10\n",
    "\n",
    "plt.plot(history.history['loss'])\n",
    "plt.plot(history.history['val_loss'])\n",
    "plt.title('model loss')\n",
    "plt.xlabel('epoch')\n",
    "plt.ylabel('loss')\n",
    "plt.legend(['train','test'])\n",
    "plt.show()"
   ]
  },
  {
   "cell_type": "markdown",
   "metadata": {},
   "source": [
    "## Questions\n",
    "1. How does your first NN compare with the literature: https://rodrigob.github.io/are_we_there_yet/build/classification_datasets_results.html\n",
    "2. Is your model overfit or underfit? \n",
    "3. Does your model have high variance or low variance? "
   ]
  },
  {
   "cell_type": "code",
   "execution_count": 15,
   "metadata": {},
   "outputs": [],
   "source": [
    "## 1. Very unsure what is being asked here\n",
    "## 2. Overfit\n",
    "## 3. High variance"
   ]
  },
  {
   "cell_type": "code",
   "execution_count": null,
   "metadata": {},
   "outputs": [],
   "source": []
  }
 ],
 "metadata": {
  "anaconda-cloud": {},
  "kernelspec": {
   "display_name": "Python 3",
   "language": "python",
   "name": "python3"
  },
  "language_info": {
   "codemirror_mode": {
    "name": "ipython",
    "version": 3
   },
   "file_extension": ".py",
   "mimetype": "text/x-python",
   "name": "python",
   "nbconvert_exporter": "python",
   "pygments_lexer": "ipython3",
   "version": "3.7.4"
  }
 },
 "nbformat": 4,
 "nbformat_minor": 2
}
